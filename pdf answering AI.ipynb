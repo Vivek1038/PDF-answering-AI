{
 "cells": [
  {
   "cell_type": "code",
   "execution_count": 1,
   "id": "9b0500cd",
   "metadata": {},
   "outputs": [],
   "source": [
    "import fitz  # PyMuPDF and nltk gensim used here\n",
    "import nltk\n",
    "from sklearn.feature_extraction.text import TfidfVectorizer\n",
    "from sklearn.metrics.pairwise import cosine_similarity"
   ]
  },
  {
   "cell_type": "code",
   "execution_count": 2,
   "id": "3d8b2b57",
   "metadata": {},
   "outputs": [
    {
     "name": "stderr",
     "output_type": "stream",
     "text": [
      "[nltk_data] Downloading package punkt to\n",
      "[nltk_data]     C:\\Users\\vivam\\AppData\\Roaming\\nltk_data...\n",
      "[nltk_data]   Package punkt is already up-to-date!\n",
      "[nltk_data] Downloading package stopwords to\n",
      "[nltk_data]     C:\\Users\\vivam\\AppData\\Roaming\\nltk_data...\n",
      "[nltk_data]   Package stopwords is already up-to-date!\n"
     ]
    },
    {
     "data": {
      "text/plain": [
       "True"
      ]
     },
     "execution_count": 2,
     "metadata": {},
     "output_type": "execute_result"
    }
   ],
   "source": [
    "# Download NLTK data\n",
    "nltk.download('punkt')\n",
    "nltk.download('stopwords')"
   ]
  },
  {
   "cell_type": "code",
   "execution_count": 3,
   "id": "b10e0aff",
   "metadata": {},
   "outputs": [],
   "source": [
    "def extract_text_from_pdf(pdf_path):\n",
    "    doc = fitz.open(pdf_path)\n",
    "    text = \"\"\n",
    "    for page in doc:\n",
    "        text += page.get_text()\n",
    "    return text\n"
   ]
  },
  {
   "cell_type": "code",
   "execution_count": 4,
   "id": "6548c815",
   "metadata": {},
   "outputs": [],
   "source": [
    "#to improve accuracy of test extraction \n",
    "def preprocess_text(text):\n",
    "    sentences = nltk.sent_tokenize(text)  # Split text into sentences\n",
    "    stop_words = set(nltk.corpus.stopwords.words('english'))  # Get stop words\n",
    "    processed_sentences = []\n",
    "    for sentence in sentences:\n",
    "        words = nltk.word_tokenize(sentence)  # Tokenize sentence into words\n",
    "        words = [word.lower() for word in words if word.isalnum() and word.lower() not in stop_words]\n",
    "        processed_sentences.append(' '.join(words))  # Join words back into sentence\n",
    "    return processed_sentences"
   ]
  },
  {
   "cell_type": "code",
   "execution_count": 5,
   "id": "dffab62f",
   "metadata": {},
   "outputs": [],
   "source": [
    "def train_word2vec(processed_sentences):\n",
    "    model = Word2Vec(sentences=processed_sentences, vector_size=100, window=5, min_count=1, workers=4)\n",
    "    return model"
   ]
  },
  {
   "cell_type": "code",
   "execution_count": 6,
   "id": "3a2b2861",
   "metadata": {},
   "outputs": [],
   "source": [
    "def answer_question(question, text, processed_sentences):\n",
    "    vectorizer = TfidfVectorizer().fit(processed_sentences)\n",
    "    question_vec = vectorizer.transform([question])\n",
    "    sentence_vectors = vectorizer.transform(processed_sentences)\n",
    "    similarities = cosine_similarity(question_vec, sentence_vectors).flatten()\n",
    "    best_match_index = similarities.argmax()\n",
    "    return processed_sentences[best_match_index]"
   ]
  },
  {
   "cell_type": "code",
   "execution_count": 7,
   "id": "42a2a08b",
   "metadata": {},
   "outputs": [],
   "source": [
    "#for loading text and processing it\n",
    "pdf_path = r\"C:\\Users\\vivam\\Downloads\\mproj\\mahcinelearning.pdf\"\n",
    "text = extract_text_from_pdf(pdf_path)\n",
    "processed_sentences = preprocess_text(text)\n",
    "\n"
   ]
  },
  {
   "cell_type": "code",
   "execution_count": 8,
   "id": "10bfba59",
   "metadata": {},
   "outputs": [],
   "source": [
    "# code for processing text and finding best suitable answer from the pdf itslef\n",
    "def interactive_qa():\n",
    "    print(\"PDF text loaded. You can now ask questions about its content.\")\n",
    "    while True:\n",
    "        question = input(\"Enter your question (or type 'exit' to quit): \")\n",
    "        if question.lower() == 'exit':\n",
    "            break\n",
    "        answer = answer_question(question, text, processed_sentences)\n",
    "        print(\"Answer:\", answer)"
   ]
  },
  {
   "cell_type": "code",
   "execution_count": null,
   "id": "83b24656",
   "metadata": {},
   "outputs": [
    {
     "name": "stdout",
     "output_type": "stream",
     "text": [
      "PDF text loaded. You can now ask questions about its content.\n",
      "Enter your question (or type 'exit' to quit): supervised learning\n",
      "Answer: supervised learning definition supervised learning algorithm learns labeled data desired output known\n",
      "Enter your question (or type 'exit' to quit): reinforcement learning\n",
      "Answer: reinforcement learning definition reinforcement learning teaches agent make sequential decisions trial error aiming maximize rewards\n",
      "Enter your question (or type 'exit' to quit): unsupervised learning\n",
      "Answer: unsupervised learning definition unsupervised learning involves training algorithms unlabeled data discover patterns structures\n",
      "Enter your question (or type 'exit' to quit): deep learning\n",
      "Answer: deep learning definition deep learning subset machine learning uses neural networks many layers analyze data\n",
      "Enter your question (or type 'exit' to quit): conclusions\n",
      "Answer: machine learning branch artificial intelligence ai enables computers learn data improve performance time without explicitly programmed\n"
     ]
    }
   ],
   "source": [
    "interactive_qa()"
   ]
  },
  {
   "cell_type": "code",
   "execution_count": null,
   "id": "81b1437b",
   "metadata": {},
   "outputs": [],
   "source": []
  }
 ],
 "metadata": {
  "kernelspec": {
   "display_name": "Python 3 (ipykernel)",
   "language": "python",
   "name": "python3"
  },
  "language_info": {
   "codemirror_mode": {
    "name": "ipython",
    "version": 3
   },
   "file_extension": ".py",
   "mimetype": "text/x-python",
   "name": "python",
   "nbconvert_exporter": "python",
   "pygments_lexer": "ipython3",
   "version": "3.11.5"
  }
 },
 "nbformat": 4,
 "nbformat_minor": 5
}
